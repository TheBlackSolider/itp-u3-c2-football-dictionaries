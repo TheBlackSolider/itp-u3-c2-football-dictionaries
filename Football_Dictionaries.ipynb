{
  "nbformat": 4,
  "nbformat_minor": 0,
  "metadata": {
    "colab": {
      "provenance": []
    },
    "kernelspec": {
      "name": "python3",
      "display_name": "Python 3"
    },
    "language_info": {
      "name": "python"
    }
  },
  "cells": [
    {
      "cell_type": "code",
      "execution_count": 1,
      "metadata": {
        "id": "h0iY7cfN5NDH"
      },
      "outputs": [],
      "source": [
        "import pandas as pd\n"
      ]
    },
    {
      "cell_type": "code",
      "source": [
        "SQUADS_DATA = [\n",
        "    [\n",
        "        \"1\", \"GK\", \"Juan Botasso\", \"(1908-10-23)23 October 1908 (aged 21)\", \"\",\n",
        "        \"Quilmes\", \"Argentina\", \"Argentina\", \"1930\"\n",
        "    ],\n",
        "    [\n",
        "        \"9\", \"FW\", \"Roberto Cherro\", \"(1907-02-23)23 February 1907 (aged 23)\", \"\",\n",
        "        \"Boca Juniors\", \"Argentina\", \"Argentina\", \"1930\"\n",
        "    ]\n",
        "    # More Players...\n",
        "]\n"
      ],
      "metadata": {
        "id": "ryCFFbb35RmO"
      },
      "execution_count": 2,
      "outputs": []
    },
    {
      "cell_type": "code",
      "source": [
        "def lists_to_dicts(players_list):\n",
        "    keys = ['number', 'position', 'name', 'date_of_birth', 'caps', 'club', 'country', 'club_country', 'year']\n",
        "    return [dict(zip(keys, player)) for player in players_list]\n",
        "\n",
        "# Convert the players list to dictionaries\n",
        "players_dict_list = lists_to_dicts(SQUADS_DATA)\n",
        "\n",
        "# Display the result\n",
        "players_dict_list\n"
      ],
      "metadata": {
        "colab": {
          "base_uri": "https://localhost:8080/"
        },
        "id": "hXRSv0tI5Wdf",
        "outputId": "24b86779-59c6-48ac-f8e2-aa9c3daf7c78"
      },
      "execution_count": 3,
      "outputs": [
        {
          "output_type": "execute_result",
          "data": {
            "text/plain": [
              "[{'number': '1',\n",
              "  'position': 'GK',\n",
              "  'name': 'Juan Botasso',\n",
              "  'date_of_birth': '(1908-10-23)23 October 1908 (aged 21)',\n",
              "  'caps': '',\n",
              "  'club': 'Quilmes',\n",
              "  'country': 'Argentina',\n",
              "  'club_country': 'Argentina',\n",
              "  'year': '1930'},\n",
              " {'number': '9',\n",
              "  'position': 'FW',\n",
              "  'name': 'Roberto Cherro',\n",
              "  'date_of_birth': '(1907-02-23)23 February 1907 (aged 23)',\n",
              "  'caps': '',\n",
              "  'club': 'Boca Juniors',\n",
              "  'country': 'Argentina',\n",
              "  'club_country': 'Argentina',\n",
              "  'year': '1930'}]"
            ]
          },
          "metadata": {},
          "execution_count": 3
        }
      ]
    },
    {
      "cell_type": "code",
      "source": [
        "def group_by_position(players_dict_list):\n",
        "    grouped_by_position = {}\n",
        "    for player in players_dict_list:\n",
        "        position = player['position']\n",
        "        if position not in grouped_by_position:\n",
        "            grouped_by_position[position] = []\n",
        "        grouped_by_position[position].append(player)\n",
        "    return grouped_by_position\n",
        "\n",
        "# Group players by position\n",
        "players_grouped_by_position = group_by_position(players_dict_list)\n",
        "\n",
        "# Display the result\n",
        "players_grouped_by_position\n"
      ],
      "metadata": {
        "colab": {
          "base_uri": "https://localhost:8080/"
        },
        "id": "v7yEjgqR5mBE",
        "outputId": "08d50805-d607-4b63-8976-d377caed6aaf"
      },
      "execution_count": 4,
      "outputs": [
        {
          "output_type": "execute_result",
          "data": {
            "text/plain": [
              "{'GK': [{'number': '1',\n",
              "   'position': 'GK',\n",
              "   'name': 'Juan Botasso',\n",
              "   'date_of_birth': '(1908-10-23)23 October 1908 (aged 21)',\n",
              "   'caps': '',\n",
              "   'club': 'Quilmes',\n",
              "   'country': 'Argentina',\n",
              "   'club_country': 'Argentina',\n",
              "   'year': '1930'}],\n",
              " 'FW': [{'number': '9',\n",
              "   'position': 'FW',\n",
              "   'name': 'Roberto Cherro',\n",
              "   'date_of_birth': '(1907-02-23)23 February 1907 (aged 23)',\n",
              "   'caps': '',\n",
              "   'club': 'Boca Juniors',\n",
              "   'country': 'Argentina',\n",
              "   'club_country': 'Argentina',\n",
              "   'year': '1930'}]}"
            ]
          },
          "metadata": {},
          "execution_count": 4
        }
      ]
    },
    {
      "cell_type": "code",
      "source": [
        "def group_by_country_and_position(players_dict_list):\n",
        "    grouped_by_country = {}\n",
        "    for player in players_dict_list:\n",
        "        country = player['country']\n",
        "        position = player['position']\n",
        "        if country not in grouped_by_country:\n",
        "            grouped_by_country[country] = {}\n",
        "        if position not in grouped_by_country[country]:\n",
        "            grouped_by_country[country][position] = []\n",
        "        grouped_by_country[country][position].append(player)\n",
        "    return grouped_by_country\n",
        "\n",
        "# Group players by country and position\n",
        "players_grouped_by_country_and_position = group_by_country_and_position(players_dict_list)\n",
        "\n",
        "# Display the result\n",
        "players_grouped_by_country_and_position\n"
      ],
      "metadata": {
        "colab": {
          "base_uri": "https://localhost:8080/"
        },
        "id": "rxht_0Q05skc",
        "outputId": "5ad77397-2d3f-43ea-dc18-dcb73f87d400"
      },
      "execution_count": 5,
      "outputs": [
        {
          "output_type": "execute_result",
          "data": {
            "text/plain": [
              "{'Argentina': {'GK': [{'number': '1',\n",
              "    'position': 'GK',\n",
              "    'name': 'Juan Botasso',\n",
              "    'date_of_birth': '(1908-10-23)23 October 1908 (aged 21)',\n",
              "    'caps': '',\n",
              "    'club': 'Quilmes',\n",
              "    'country': 'Argentina',\n",
              "    'club_country': 'Argentina',\n",
              "    'year': '1930'}],\n",
              "  'FW': [{'number': '9',\n",
              "    'position': 'FW',\n",
              "    'name': 'Roberto Cherro',\n",
              "    'date_of_birth': '(1907-02-23)23 February 1907 (aged 23)',\n",
              "    'caps': '',\n",
              "    'club': 'Boca Juniors',\n",
              "    'country': 'Argentina',\n",
              "    'club_country': 'Argentina',\n",
              "    'year': '1930'}]}}"
            ]
          },
          "metadata": {},
          "execution_count": 5
        }
      ]
    },
    {
      "cell_type": "code",
      "source": [],
      "metadata": {
        "id": "YEEuNE0-5tb5"
      },
      "execution_count": null,
      "outputs": []
    }
  ]
}